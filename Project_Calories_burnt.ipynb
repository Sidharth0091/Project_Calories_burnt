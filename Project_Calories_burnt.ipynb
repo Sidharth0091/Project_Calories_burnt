{
  "nbformat": 4,
  "nbformat_minor": 0,
  "metadata": {
    "colab": {
      "provenance": []
    },
    "kernelspec": {
      "name": "python3",
      "display_name": "Python 3"
    },
    "language_info": {
      "name": "python"
    }
  },
  "cells": [
    {
      "cell_type": "markdown",
      "source": [
        "## About Dataset :\n",
        " The estimation of calories burned by individuals is based on a formula and MET charts. This study aims to predict the calories burned using a regression model as one of the machine learning algorithms to give more accurate results. Data preparation, cleaning, and analysis are the primary steps before they can be fed to the regression models.bold text"
      ],
      "metadata": {
        "id": "ZdvAbr3iENka"
      }
    },
    {
      "cell_type": "markdown",
      "source": [
        "# Attribute Information \n",
        "\n",
        "\n",
        "1. Gender: Male|Female\n",
        "2. Age:   Age of the person\n",
        "3. Height: Height of the person\n",
        "4. Weight: Weight of the person\n",
        "5. Duration: Duration of the workout\n",
        "6. Heart_Rate: Count of heart beat during the workout\n",
        "7. Body_Temp: Body temperature during the workout\n",
        "8. Calories: Amount of the calories"
      ],
      "metadata": {
        "id": "H7IhNwwPayIQ"
      }
    },
    {
      "cell_type": "markdown",
      "source": [
        "# Importing the Dependencies"
      ],
      "metadata": {
        "id": "M6-E7GlaIKKq"
      }
    },
    {
      "cell_type": "code",
      "source": [
        "import numpy as np\n",
        "import pandas as pd\n",
        "import matplotlib.pyplot as plt\n",
        "import seaborn as sns\n",
        "from sklearn.model_selection import train_test_split\n",
        "from sklearn.preprocessing import StandardScaler\n",
        "from xgboost import XGBRegressor\n",
        "from sklearn import metrics\n",
        "from sklearn.linear_model import LinearRegression, Lasso, Ridge\n",
        "from sklearn.ensemble import RandomForestRegressor"
      ],
      "metadata": {
        "id": "xqn6CrJ7IWnD"
      },
      "execution_count": 29,
      "outputs": []
    },
    {
      "cell_type": "markdown",
      "source": [
        "Data collection & Processing"
      ],
      "metadata": {
        "id": "ex6tJeyNJVYK"
      }
    },
    {
      "cell_type": "code",
      "execution_count": 30,
      "metadata": {
        "colab": {
          "base_uri": "https://localhost:8080/",
          "height": 423
        },
        "id": "v5ULAqSSHmdN",
        "outputId": "c164ef34-dc16-4935-c600-f8e89b04b43c"
      },
      "outputs": [
        {
          "output_type": "execute_result",
          "data": {
            "text/plain": [
              "        User_ID  Calories\n",
              "0      14733363     231.0\n",
              "1      14861698      66.0\n",
              "2      11179863      26.0\n",
              "3      16180408      71.0\n",
              "4      17771927      35.0\n",
              "...         ...       ...\n",
              "14995  15644082      45.0\n",
              "14996  17212577      23.0\n",
              "14997  17271188      75.0\n",
              "14998  18643037      11.0\n",
              "14999  11751526      98.0\n",
              "\n",
              "[15000 rows x 2 columns]"
            ],
            "text/html": [
              "\n",
              "  <div id=\"df-386ceda7-cee7-43ca-bb3a-f1479b0504e1\">\n",
              "    <div class=\"colab-df-container\">\n",
              "      <div>\n",
              "<style scoped>\n",
              "    .dataframe tbody tr th:only-of-type {\n",
              "        vertical-align: middle;\n",
              "    }\n",
              "\n",
              "    .dataframe tbody tr th {\n",
              "        vertical-align: top;\n",
              "    }\n",
              "\n",
              "    .dataframe thead th {\n",
              "        text-align: right;\n",
              "    }\n",
              "</style>\n",
              "<table border=\"1\" class=\"dataframe\">\n",
              "  <thead>\n",
              "    <tr style=\"text-align: right;\">\n",
              "      <th></th>\n",
              "      <th>User_ID</th>\n",
              "      <th>Calories</th>\n",
              "    </tr>\n",
              "  </thead>\n",
              "  <tbody>\n",
              "    <tr>\n",
              "      <th>0</th>\n",
              "      <td>14733363</td>\n",
              "      <td>231.0</td>\n",
              "    </tr>\n",
              "    <tr>\n",
              "      <th>1</th>\n",
              "      <td>14861698</td>\n",
              "      <td>66.0</td>\n",
              "    </tr>\n",
              "    <tr>\n",
              "      <th>2</th>\n",
              "      <td>11179863</td>\n",
              "      <td>26.0</td>\n",
              "    </tr>\n",
              "    <tr>\n",
              "      <th>3</th>\n",
              "      <td>16180408</td>\n",
              "      <td>71.0</td>\n",
              "    </tr>\n",
              "    <tr>\n",
              "      <th>4</th>\n",
              "      <td>17771927</td>\n",
              "      <td>35.0</td>\n",
              "    </tr>\n",
              "    <tr>\n",
              "      <th>...</th>\n",
              "      <td>...</td>\n",
              "      <td>...</td>\n",
              "    </tr>\n",
              "    <tr>\n",
              "      <th>14995</th>\n",
              "      <td>15644082</td>\n",
              "      <td>45.0</td>\n",
              "    </tr>\n",
              "    <tr>\n",
              "      <th>14996</th>\n",
              "      <td>17212577</td>\n",
              "      <td>23.0</td>\n",
              "    </tr>\n",
              "    <tr>\n",
              "      <th>14997</th>\n",
              "      <td>17271188</td>\n",
              "      <td>75.0</td>\n",
              "    </tr>\n",
              "    <tr>\n",
              "      <th>14998</th>\n",
              "      <td>18643037</td>\n",
              "      <td>11.0</td>\n",
              "    </tr>\n",
              "    <tr>\n",
              "      <th>14999</th>\n",
              "      <td>11751526</td>\n",
              "      <td>98.0</td>\n",
              "    </tr>\n",
              "  </tbody>\n",
              "</table>\n",
              "<p>15000 rows × 2 columns</p>\n",
              "</div>\n",
              "      <button class=\"colab-df-convert\" onclick=\"convertToInteractive('df-386ceda7-cee7-43ca-bb3a-f1479b0504e1')\"\n",
              "              title=\"Convert this dataframe to an interactive table.\"\n",
              "              style=\"display:none;\">\n",
              "        \n",
              "  <svg xmlns=\"http://www.w3.org/2000/svg\" height=\"24px\"viewBox=\"0 0 24 24\"\n",
              "       width=\"24px\">\n",
              "    <path d=\"M0 0h24v24H0V0z\" fill=\"none\"/>\n",
              "    <path d=\"M18.56 5.44l.94 2.06.94-2.06 2.06-.94-2.06-.94-.94-2.06-.94 2.06-2.06.94zm-11 1L8.5 8.5l.94-2.06 2.06-.94-2.06-.94L8.5 2.5l-.94 2.06-2.06.94zm10 10l.94 2.06.94-2.06 2.06-.94-2.06-.94-.94-2.06-.94 2.06-2.06.94z\"/><path d=\"M17.41 7.96l-1.37-1.37c-.4-.4-.92-.59-1.43-.59-.52 0-1.04.2-1.43.59L10.3 9.45l-7.72 7.72c-.78.78-.78 2.05 0 2.83L4 21.41c.39.39.9.59 1.41.59.51 0 1.02-.2 1.41-.59l7.78-7.78 2.81-2.81c.8-.78.8-2.07 0-2.86zM5.41 20L4 18.59l7.72-7.72 1.47 1.35L5.41 20z\"/>\n",
              "  </svg>\n",
              "      </button>\n",
              "      \n",
              "  <style>\n",
              "    .colab-df-container {\n",
              "      display:flex;\n",
              "      flex-wrap:wrap;\n",
              "      gap: 12px;\n",
              "    }\n",
              "\n",
              "    .colab-df-convert {\n",
              "      background-color: #E8F0FE;\n",
              "      border: none;\n",
              "      border-radius: 50%;\n",
              "      cursor: pointer;\n",
              "      display: none;\n",
              "      fill: #1967D2;\n",
              "      height: 32px;\n",
              "      padding: 0 0 0 0;\n",
              "      width: 32px;\n",
              "    }\n",
              "\n",
              "    .colab-df-convert:hover {\n",
              "      background-color: #E2EBFA;\n",
              "      box-shadow: 0px 1px 2px rgba(60, 64, 67, 0.3), 0px 1px 3px 1px rgba(60, 64, 67, 0.15);\n",
              "      fill: #174EA6;\n",
              "    }\n",
              "\n",
              "    [theme=dark] .colab-df-convert {\n",
              "      background-color: #3B4455;\n",
              "      fill: #D2E3FC;\n",
              "    }\n",
              "\n",
              "    [theme=dark] .colab-df-convert:hover {\n",
              "      background-color: #434B5C;\n",
              "      box-shadow: 0px 1px 3px 1px rgba(0, 0, 0, 0.15);\n",
              "      filter: drop-shadow(0px 1px 2px rgba(0, 0, 0, 0.3));\n",
              "      fill: #FFFFFF;\n",
              "    }\n",
              "  </style>\n",
              "\n",
              "      <script>\n",
              "        const buttonEl =\n",
              "          document.querySelector('#df-386ceda7-cee7-43ca-bb3a-f1479b0504e1 button.colab-df-convert');\n",
              "        buttonEl.style.display =\n",
              "          google.colab.kernel.accessAllowed ? 'block' : 'none';\n",
              "\n",
              "        async function convertToInteractive(key) {\n",
              "          const element = document.querySelector('#df-386ceda7-cee7-43ca-bb3a-f1479b0504e1');\n",
              "          const dataTable =\n",
              "            await google.colab.kernel.invokeFunction('convertToInteractive',\n",
              "                                                     [key], {});\n",
              "          if (!dataTable) return;\n",
              "\n",
              "          const docLinkHtml = 'Like what you see? Visit the ' +\n",
              "            '<a target=\"_blank\" href=https://colab.research.google.com/notebooks/data_table.ipynb>data table notebook</a>'\n",
              "            + ' to learn more about interactive tables.';\n",
              "          element.innerHTML = '';\n",
              "          dataTable['output_type'] = 'display_data';\n",
              "          await google.colab.output.renderOutput(dataTable, element);\n",
              "          const docLink = document.createElement('div');\n",
              "          docLink.innerHTML = docLinkHtml;\n",
              "          element.appendChild(docLink);\n",
              "        }\n",
              "      </script>\n",
              "    </div>\n",
              "  </div>\n",
              "  "
            ]
          },
          "metadata": {},
          "execution_count": 30
        }
      ],
      "source": [
        "# loading  and printing the data from csv file to a pandas  Dataframe\n",
        "df1=pd.read_csv('/content/calories.csv') \n",
        "df1"
      ]
    },
    {
      "cell_type": "code",
      "source": [
        "df2=pd.read_csv('/content/exercise.csv')\n",
        "df2"
      ],
      "metadata": {
        "colab": {
          "base_uri": "https://localhost:8080/",
          "height": 423
        },
        "id": "iaTtk1mXMdo2",
        "outputId": "1242761f-7fdc-4867-d4de-46c46fe9864d"
      },
      "execution_count": 31,
      "outputs": [
        {
          "output_type": "execute_result",
          "data": {
            "text/plain": [
              "        User_ID  Gender  Age  Height  Weight  Duration  Heart_Rate  Body_Temp\n",
              "0      14733363    male   68   190.0    94.0      29.0       105.0       40.8\n",
              "1      14861698  female   20   166.0    60.0      14.0        94.0       40.3\n",
              "2      11179863    male   69   179.0    79.0       5.0        88.0       38.7\n",
              "3      16180408  female   34   179.0    71.0      13.0       100.0       40.5\n",
              "4      17771927  female   27   154.0    58.0      10.0        81.0       39.8\n",
              "...         ...     ...  ...     ...     ...       ...         ...        ...\n",
              "14995  15644082  female   20   193.0    86.0      11.0        92.0       40.4\n",
              "14996  17212577  female   27   165.0    65.0       6.0        85.0       39.2\n",
              "14997  17271188  female   43   159.0    58.0      16.0        90.0       40.1\n",
              "14998  18643037    male   78   193.0    97.0       2.0        84.0       38.3\n",
              "14999  11751526    male   63   173.0    79.0      18.0        92.0       40.5\n",
              "\n",
              "[15000 rows x 8 columns]"
            ],
            "text/html": [
              "\n",
              "  <div id=\"df-09ee4fbb-ee16-4d1d-9506-e47ac914d278\">\n",
              "    <div class=\"colab-df-container\">\n",
              "      <div>\n",
              "<style scoped>\n",
              "    .dataframe tbody tr th:only-of-type {\n",
              "        vertical-align: middle;\n",
              "    }\n",
              "\n",
              "    .dataframe tbody tr th {\n",
              "        vertical-align: top;\n",
              "    }\n",
              "\n",
              "    .dataframe thead th {\n",
              "        text-align: right;\n",
              "    }\n",
              "</style>\n",
              "<table border=\"1\" class=\"dataframe\">\n",
              "  <thead>\n",
              "    <tr style=\"text-align: right;\">\n",
              "      <th></th>\n",
              "      <th>User_ID</th>\n",
              "      <th>Gender</th>\n",
              "      <th>Age</th>\n",
              "      <th>Height</th>\n",
              "      <th>Weight</th>\n",
              "      <th>Duration</th>\n",
              "      <th>Heart_Rate</th>\n",
              "      <th>Body_Temp</th>\n",
              "    </tr>\n",
              "  </thead>\n",
              "  <tbody>\n",
              "    <tr>\n",
              "      <th>0</th>\n",
              "      <td>14733363</td>\n",
              "      <td>male</td>\n",
              "      <td>68</td>\n",
              "      <td>190.0</td>\n",
              "      <td>94.0</td>\n",
              "      <td>29.0</td>\n",
              "      <td>105.0</td>\n",
              "      <td>40.8</td>\n",
              "    </tr>\n",
              "    <tr>\n",
              "      <th>1</th>\n",
              "      <td>14861698</td>\n",
              "      <td>female</td>\n",
              "      <td>20</td>\n",
              "      <td>166.0</td>\n",
              "      <td>60.0</td>\n",
              "      <td>14.0</td>\n",
              "      <td>94.0</td>\n",
              "      <td>40.3</td>\n",
              "    </tr>\n",
              "    <tr>\n",
              "      <th>2</th>\n",
              "      <td>11179863</td>\n",
              "      <td>male</td>\n",
              "      <td>69</td>\n",
              "      <td>179.0</td>\n",
              "      <td>79.0</td>\n",
              "      <td>5.0</td>\n",
              "      <td>88.0</td>\n",
              "      <td>38.7</td>\n",
              "    </tr>\n",
              "    <tr>\n",
              "      <th>3</th>\n",
              "      <td>16180408</td>\n",
              "      <td>female</td>\n",
              "      <td>34</td>\n",
              "      <td>179.0</td>\n",
              "      <td>71.0</td>\n",
              "      <td>13.0</td>\n",
              "      <td>100.0</td>\n",
              "      <td>40.5</td>\n",
              "    </tr>\n",
              "    <tr>\n",
              "      <th>4</th>\n",
              "      <td>17771927</td>\n",
              "      <td>female</td>\n",
              "      <td>27</td>\n",
              "      <td>154.0</td>\n",
              "      <td>58.0</td>\n",
              "      <td>10.0</td>\n",
              "      <td>81.0</td>\n",
              "      <td>39.8</td>\n",
              "    </tr>\n",
              "    <tr>\n",
              "      <th>...</th>\n",
              "      <td>...</td>\n",
              "      <td>...</td>\n",
              "      <td>...</td>\n",
              "      <td>...</td>\n",
              "      <td>...</td>\n",
              "      <td>...</td>\n",
              "      <td>...</td>\n",
              "      <td>...</td>\n",
              "    </tr>\n",
              "    <tr>\n",
              "      <th>14995</th>\n",
              "      <td>15644082</td>\n",
              "      <td>female</td>\n",
              "      <td>20</td>\n",
              "      <td>193.0</td>\n",
              "      <td>86.0</td>\n",
              "      <td>11.0</td>\n",
              "      <td>92.0</td>\n",
              "      <td>40.4</td>\n",
              "    </tr>\n",
              "    <tr>\n",
              "      <th>14996</th>\n",
              "      <td>17212577</td>\n",
              "      <td>female</td>\n",
              "      <td>27</td>\n",
              "      <td>165.0</td>\n",
              "      <td>65.0</td>\n",
              "      <td>6.0</td>\n",
              "      <td>85.0</td>\n",
              "      <td>39.2</td>\n",
              "    </tr>\n",
              "    <tr>\n",
              "      <th>14997</th>\n",
              "      <td>17271188</td>\n",
              "      <td>female</td>\n",
              "      <td>43</td>\n",
              "      <td>159.0</td>\n",
              "      <td>58.0</td>\n",
              "      <td>16.0</td>\n",
              "      <td>90.0</td>\n",
              "      <td>40.1</td>\n",
              "    </tr>\n",
              "    <tr>\n",
              "      <th>14998</th>\n",
              "      <td>18643037</td>\n",
              "      <td>male</td>\n",
              "      <td>78</td>\n",
              "      <td>193.0</td>\n",
              "      <td>97.0</td>\n",
              "      <td>2.0</td>\n",
              "      <td>84.0</td>\n",
              "      <td>38.3</td>\n",
              "    </tr>\n",
              "    <tr>\n",
              "      <th>14999</th>\n",
              "      <td>11751526</td>\n",
              "      <td>male</td>\n",
              "      <td>63</td>\n",
              "      <td>173.0</td>\n",
              "      <td>79.0</td>\n",
              "      <td>18.0</td>\n",
              "      <td>92.0</td>\n",
              "      <td>40.5</td>\n",
              "    </tr>\n",
              "  </tbody>\n",
              "</table>\n",
              "<p>15000 rows × 8 columns</p>\n",
              "</div>\n",
              "      <button class=\"colab-df-convert\" onclick=\"convertToInteractive('df-09ee4fbb-ee16-4d1d-9506-e47ac914d278')\"\n",
              "              title=\"Convert this dataframe to an interactive table.\"\n",
              "              style=\"display:none;\">\n",
              "        \n",
              "  <svg xmlns=\"http://www.w3.org/2000/svg\" height=\"24px\"viewBox=\"0 0 24 24\"\n",
              "       width=\"24px\">\n",
              "    <path d=\"M0 0h24v24H0V0z\" fill=\"none\"/>\n",
              "    <path d=\"M18.56 5.44l.94 2.06.94-2.06 2.06-.94-2.06-.94-.94-2.06-.94 2.06-2.06.94zm-11 1L8.5 8.5l.94-2.06 2.06-.94-2.06-.94L8.5 2.5l-.94 2.06-2.06.94zm10 10l.94 2.06.94-2.06 2.06-.94-2.06-.94-.94-2.06-.94 2.06-2.06.94z\"/><path d=\"M17.41 7.96l-1.37-1.37c-.4-.4-.92-.59-1.43-.59-.52 0-1.04.2-1.43.59L10.3 9.45l-7.72 7.72c-.78.78-.78 2.05 0 2.83L4 21.41c.39.39.9.59 1.41.59.51 0 1.02-.2 1.41-.59l7.78-7.78 2.81-2.81c.8-.78.8-2.07 0-2.86zM5.41 20L4 18.59l7.72-7.72 1.47 1.35L5.41 20z\"/>\n",
              "  </svg>\n",
              "      </button>\n",
              "      \n",
              "  <style>\n",
              "    .colab-df-container {\n",
              "      display:flex;\n",
              "      flex-wrap:wrap;\n",
              "      gap: 12px;\n",
              "    }\n",
              "\n",
              "    .colab-df-convert {\n",
              "      background-color: #E8F0FE;\n",
              "      border: none;\n",
              "      border-radius: 50%;\n",
              "      cursor: pointer;\n",
              "      display: none;\n",
              "      fill: #1967D2;\n",
              "      height: 32px;\n",
              "      padding: 0 0 0 0;\n",
              "      width: 32px;\n",
              "    }\n",
              "\n",
              "    .colab-df-convert:hover {\n",
              "      background-color: #E2EBFA;\n",
              "      box-shadow: 0px 1px 2px rgba(60, 64, 67, 0.3), 0px 1px 3px 1px rgba(60, 64, 67, 0.15);\n",
              "      fill: #174EA6;\n",
              "    }\n",
              "\n",
              "    [theme=dark] .colab-df-convert {\n",
              "      background-color: #3B4455;\n",
              "      fill: #D2E3FC;\n",
              "    }\n",
              "\n",
              "    [theme=dark] .colab-df-convert:hover {\n",
              "      background-color: #434B5C;\n",
              "      box-shadow: 0px 1px 3px 1px rgba(0, 0, 0, 0.15);\n",
              "      filter: drop-shadow(0px 1px 2px rgba(0, 0, 0, 0.3));\n",
              "      fill: #FFFFFF;\n",
              "    }\n",
              "  </style>\n",
              "\n",
              "      <script>\n",
              "        const buttonEl =\n",
              "          document.querySelector('#df-09ee4fbb-ee16-4d1d-9506-e47ac914d278 button.colab-df-convert');\n",
              "        buttonEl.style.display =\n",
              "          google.colab.kernel.accessAllowed ? 'block' : 'none';\n",
              "\n",
              "        async function convertToInteractive(key) {\n",
              "          const element = document.querySelector('#df-09ee4fbb-ee16-4d1d-9506-e47ac914d278');\n",
              "          const dataTable =\n",
              "            await google.colab.kernel.invokeFunction('convertToInteractive',\n",
              "                                                     [key], {});\n",
              "          if (!dataTable) return;\n",
              "\n",
              "          const docLinkHtml = 'Like what you see? Visit the ' +\n",
              "            '<a target=\"_blank\" href=https://colab.research.google.com/notebooks/data_table.ipynb>data table notebook</a>'\n",
              "            + ' to learn more about interactive tables.';\n",
              "          element.innerHTML = '';\n",
              "          dataTable['output_type'] = 'display_data';\n",
              "          await google.colab.output.renderOutput(dataTable, element);\n",
              "          const docLink = document.createElement('div');\n",
              "          docLink.innerHTML = docLinkHtml;\n",
              "          element.appendChild(docLink);\n",
              "        }\n",
              "      </script>\n",
              "    </div>\n",
              "  </div>\n",
              "  "
            ]
          },
          "metadata": {},
          "execution_count": 31
        }
      ]
    },
    {
      "cell_type": "markdown",
      "source": [
        "# Combining the two Dataframes"
      ],
      "metadata": {
        "id": "RLfhsujTrOtC"
      }
    },
    {
      "cell_type": "code",
      "source": [
        "df=pd.concat([df2,df1['Calories']],axis=1)\n",
        "df"
      ],
      "metadata": {
        "colab": {
          "base_uri": "https://localhost:8080/",
          "height": 423
        },
        "id": "O1bO9pk2rfs9",
        "outputId": "c284a056-8743-4c14-a074-c3ad5c303b1b"
      },
      "execution_count": 32,
      "outputs": [
        {
          "output_type": "execute_result",
          "data": {
            "text/plain": [
              "        User_ID  Gender  Age  Height  Weight  Duration  Heart_Rate  Body_Temp  \\\n",
              "0      14733363    male   68   190.0    94.0      29.0       105.0       40.8   \n",
              "1      14861698  female   20   166.0    60.0      14.0        94.0       40.3   \n",
              "2      11179863    male   69   179.0    79.0       5.0        88.0       38.7   \n",
              "3      16180408  female   34   179.0    71.0      13.0       100.0       40.5   \n",
              "4      17771927  female   27   154.0    58.0      10.0        81.0       39.8   \n",
              "...         ...     ...  ...     ...     ...       ...         ...        ...   \n",
              "14995  15644082  female   20   193.0    86.0      11.0        92.0       40.4   \n",
              "14996  17212577  female   27   165.0    65.0       6.0        85.0       39.2   \n",
              "14997  17271188  female   43   159.0    58.0      16.0        90.0       40.1   \n",
              "14998  18643037    male   78   193.0    97.0       2.0        84.0       38.3   \n",
              "14999  11751526    male   63   173.0    79.0      18.0        92.0       40.5   \n",
              "\n",
              "       Calories  \n",
              "0         231.0  \n",
              "1          66.0  \n",
              "2          26.0  \n",
              "3          71.0  \n",
              "4          35.0  \n",
              "...         ...  \n",
              "14995      45.0  \n",
              "14996      23.0  \n",
              "14997      75.0  \n",
              "14998      11.0  \n",
              "14999      98.0  \n",
              "\n",
              "[15000 rows x 9 columns]"
            ],
            "text/html": [
              "\n",
              "  <div id=\"df-cafe4397-3196-4082-a3d4-3476db2264db\">\n",
              "    <div class=\"colab-df-container\">\n",
              "      <div>\n",
              "<style scoped>\n",
              "    .dataframe tbody tr th:only-of-type {\n",
              "        vertical-align: middle;\n",
              "    }\n",
              "\n",
              "    .dataframe tbody tr th {\n",
              "        vertical-align: top;\n",
              "    }\n",
              "\n",
              "    .dataframe thead th {\n",
              "        text-align: right;\n",
              "    }\n",
              "</style>\n",
              "<table border=\"1\" class=\"dataframe\">\n",
              "  <thead>\n",
              "    <tr style=\"text-align: right;\">\n",
              "      <th></th>\n",
              "      <th>User_ID</th>\n",
              "      <th>Gender</th>\n",
              "      <th>Age</th>\n",
              "      <th>Height</th>\n",
              "      <th>Weight</th>\n",
              "      <th>Duration</th>\n",
              "      <th>Heart_Rate</th>\n",
              "      <th>Body_Temp</th>\n",
              "      <th>Calories</th>\n",
              "    </tr>\n",
              "  </thead>\n",
              "  <tbody>\n",
              "    <tr>\n",
              "      <th>0</th>\n",
              "      <td>14733363</td>\n",
              "      <td>male</td>\n",
              "      <td>68</td>\n",
              "      <td>190.0</td>\n",
              "      <td>94.0</td>\n",
              "      <td>29.0</td>\n",
              "      <td>105.0</td>\n",
              "      <td>40.8</td>\n",
              "      <td>231.0</td>\n",
              "    </tr>\n",
              "    <tr>\n",
              "      <th>1</th>\n",
              "      <td>14861698</td>\n",
              "      <td>female</td>\n",
              "      <td>20</td>\n",
              "      <td>166.0</td>\n",
              "      <td>60.0</td>\n",
              "      <td>14.0</td>\n",
              "      <td>94.0</td>\n",
              "      <td>40.3</td>\n",
              "      <td>66.0</td>\n",
              "    </tr>\n",
              "    <tr>\n",
              "      <th>2</th>\n",
              "      <td>11179863</td>\n",
              "      <td>male</td>\n",
              "      <td>69</td>\n",
              "      <td>179.0</td>\n",
              "      <td>79.0</td>\n",
              "      <td>5.0</td>\n",
              "      <td>88.0</td>\n",
              "      <td>38.7</td>\n",
              "      <td>26.0</td>\n",
              "    </tr>\n",
              "    <tr>\n",
              "      <th>3</th>\n",
              "      <td>16180408</td>\n",
              "      <td>female</td>\n",
              "      <td>34</td>\n",
              "      <td>179.0</td>\n",
              "      <td>71.0</td>\n",
              "      <td>13.0</td>\n",
              "      <td>100.0</td>\n",
              "      <td>40.5</td>\n",
              "      <td>71.0</td>\n",
              "    </tr>\n",
              "    <tr>\n",
              "      <th>4</th>\n",
              "      <td>17771927</td>\n",
              "      <td>female</td>\n",
              "      <td>27</td>\n",
              "      <td>154.0</td>\n",
              "      <td>58.0</td>\n",
              "      <td>10.0</td>\n",
              "      <td>81.0</td>\n",
              "      <td>39.8</td>\n",
              "      <td>35.0</td>\n",
              "    </tr>\n",
              "    <tr>\n",
              "      <th>...</th>\n",
              "      <td>...</td>\n",
              "      <td>...</td>\n",
              "      <td>...</td>\n",
              "      <td>...</td>\n",
              "      <td>...</td>\n",
              "      <td>...</td>\n",
              "      <td>...</td>\n",
              "      <td>...</td>\n",
              "      <td>...</td>\n",
              "    </tr>\n",
              "    <tr>\n",
              "      <th>14995</th>\n",
              "      <td>15644082</td>\n",
              "      <td>female</td>\n",
              "      <td>20</td>\n",
              "      <td>193.0</td>\n",
              "      <td>86.0</td>\n",
              "      <td>11.0</td>\n",
              "      <td>92.0</td>\n",
              "      <td>40.4</td>\n",
              "      <td>45.0</td>\n",
              "    </tr>\n",
              "    <tr>\n",
              "      <th>14996</th>\n",
              "      <td>17212577</td>\n",
              "      <td>female</td>\n",
              "      <td>27</td>\n",
              "      <td>165.0</td>\n",
              "      <td>65.0</td>\n",
              "      <td>6.0</td>\n",
              "      <td>85.0</td>\n",
              "      <td>39.2</td>\n",
              "      <td>23.0</td>\n",
              "    </tr>\n",
              "    <tr>\n",
              "      <th>14997</th>\n",
              "      <td>17271188</td>\n",
              "      <td>female</td>\n",
              "      <td>43</td>\n",
              "      <td>159.0</td>\n",
              "      <td>58.0</td>\n",
              "      <td>16.0</td>\n",
              "      <td>90.0</td>\n",
              "      <td>40.1</td>\n",
              "      <td>75.0</td>\n",
              "    </tr>\n",
              "    <tr>\n",
              "      <th>14998</th>\n",
              "      <td>18643037</td>\n",
              "      <td>male</td>\n",
              "      <td>78</td>\n",
              "      <td>193.0</td>\n",
              "      <td>97.0</td>\n",
              "      <td>2.0</td>\n",
              "      <td>84.0</td>\n",
              "      <td>38.3</td>\n",
              "      <td>11.0</td>\n",
              "    </tr>\n",
              "    <tr>\n",
              "      <th>14999</th>\n",
              "      <td>11751526</td>\n",
              "      <td>male</td>\n",
              "      <td>63</td>\n",
              "      <td>173.0</td>\n",
              "      <td>79.0</td>\n",
              "      <td>18.0</td>\n",
              "      <td>92.0</td>\n",
              "      <td>40.5</td>\n",
              "      <td>98.0</td>\n",
              "    </tr>\n",
              "  </tbody>\n",
              "</table>\n",
              "<p>15000 rows × 9 columns</p>\n",
              "</div>\n",
              "      <button class=\"colab-df-convert\" onclick=\"convertToInteractive('df-cafe4397-3196-4082-a3d4-3476db2264db')\"\n",
              "              title=\"Convert this dataframe to an interactive table.\"\n",
              "              style=\"display:none;\">\n",
              "        \n",
              "  <svg xmlns=\"http://www.w3.org/2000/svg\" height=\"24px\"viewBox=\"0 0 24 24\"\n",
              "       width=\"24px\">\n",
              "    <path d=\"M0 0h24v24H0V0z\" fill=\"none\"/>\n",
              "    <path d=\"M18.56 5.44l.94 2.06.94-2.06 2.06-.94-2.06-.94-.94-2.06-.94 2.06-2.06.94zm-11 1L8.5 8.5l.94-2.06 2.06-.94-2.06-.94L8.5 2.5l-.94 2.06-2.06.94zm10 10l.94 2.06.94-2.06 2.06-.94-2.06-.94-.94-2.06-.94 2.06-2.06.94z\"/><path d=\"M17.41 7.96l-1.37-1.37c-.4-.4-.92-.59-1.43-.59-.52 0-1.04.2-1.43.59L10.3 9.45l-7.72 7.72c-.78.78-.78 2.05 0 2.83L4 21.41c.39.39.9.59 1.41.59.51 0 1.02-.2 1.41-.59l7.78-7.78 2.81-2.81c.8-.78.8-2.07 0-2.86zM5.41 20L4 18.59l7.72-7.72 1.47 1.35L5.41 20z\"/>\n",
              "  </svg>\n",
              "      </button>\n",
              "      \n",
              "  <style>\n",
              "    .colab-df-container {\n",
              "      display:flex;\n",
              "      flex-wrap:wrap;\n",
              "      gap: 12px;\n",
              "    }\n",
              "\n",
              "    .colab-df-convert {\n",
              "      background-color: #E8F0FE;\n",
              "      border: none;\n",
              "      border-radius: 50%;\n",
              "      cursor: pointer;\n",
              "      display: none;\n",
              "      fill: #1967D2;\n",
              "      height: 32px;\n",
              "      padding: 0 0 0 0;\n",
              "      width: 32px;\n",
              "    }\n",
              "\n",
              "    .colab-df-convert:hover {\n",
              "      background-color: #E2EBFA;\n",
              "      box-shadow: 0px 1px 2px rgba(60, 64, 67, 0.3), 0px 1px 3px 1px rgba(60, 64, 67, 0.15);\n",
              "      fill: #174EA6;\n",
              "    }\n",
              "\n",
              "    [theme=dark] .colab-df-convert {\n",
              "      background-color: #3B4455;\n",
              "      fill: #D2E3FC;\n",
              "    }\n",
              "\n",
              "    [theme=dark] .colab-df-convert:hover {\n",
              "      background-color: #434B5C;\n",
              "      box-shadow: 0px 1px 3px 1px rgba(0, 0, 0, 0.15);\n",
              "      filter: drop-shadow(0px 1px 2px rgba(0, 0, 0, 0.3));\n",
              "      fill: #FFFFFF;\n",
              "    }\n",
              "  </style>\n",
              "\n",
              "      <script>\n",
              "        const buttonEl =\n",
              "          document.querySelector('#df-cafe4397-3196-4082-a3d4-3476db2264db button.colab-df-convert');\n",
              "        buttonEl.style.display =\n",
              "          google.colab.kernel.accessAllowed ? 'block' : 'none';\n",
              "\n",
              "        async function convertToInteractive(key) {\n",
              "          const element = document.querySelector('#df-cafe4397-3196-4082-a3d4-3476db2264db');\n",
              "          const dataTable =\n",
              "            await google.colab.kernel.invokeFunction('convertToInteractive',\n",
              "                                                     [key], {});\n",
              "          if (!dataTable) return;\n",
              "\n",
              "          const docLinkHtml = 'Like what you see? Visit the ' +\n",
              "            '<a target=\"_blank\" href=https://colab.research.google.com/notebooks/data_table.ipynb>data table notebook</a>'\n",
              "            + ' to learn more about interactive tables.';\n",
              "          element.innerHTML = '';\n",
              "          dataTable['output_type'] = 'display_data';\n",
              "          await google.colab.output.renderOutput(dataTable, element);\n",
              "          const docLink = document.createElement('div');\n",
              "          docLink.innerHTML = docLinkHtml;\n",
              "          element.appendChild(docLink);\n",
              "        }\n",
              "      </script>\n",
              "    </div>\n",
              "  </div>\n",
              "  "
            ]
          },
          "metadata": {},
          "execution_count": 32
        }
      ]
    },
    {
      "cell_type": "code",
      "source": [
        "# checking the number of raws and colomns\n",
        "df.shape"
      ],
      "metadata": {
        "colab": {
          "base_uri": "https://localhost:8080/",
          "height": 0
        },
        "id": "qPv-AG7stfYx",
        "outputId": "0ce2ca36-c865-4f5d-89aa-3d014d53739e"
      },
      "execution_count": 33,
      "outputs": [
        {
          "output_type": "execute_result",
          "data": {
            "text/plain": [
              "(15000, 9)"
            ]
          },
          "metadata": {},
          "execution_count": 33
        }
      ]
    },
    {
      "cell_type": "code",
      "source": [
        "#information about data\n",
        "df.info()"
      ],
      "metadata": {
        "colab": {
          "base_uri": "https://localhost:8080/",
          "height": 0
        },
        "id": "MiTrQ4fWtwQM",
        "outputId": "ed55d5ad-007b-4b77-9a48-f535d0a8cad8"
      },
      "execution_count": 34,
      "outputs": [
        {
          "output_type": "stream",
          "name": "stdout",
          "text": [
            "<class 'pandas.core.frame.DataFrame'>\n",
            "RangeIndex: 15000 entries, 0 to 14999\n",
            "Data columns (total 9 columns):\n",
            " #   Column      Non-Null Count  Dtype  \n",
            "---  ------      --------------  -----  \n",
            " 0   User_ID     15000 non-null  int64  \n",
            " 1   Gender      15000 non-null  object \n",
            " 2   Age         15000 non-null  int64  \n",
            " 3   Height      15000 non-null  float64\n",
            " 4   Weight      15000 non-null  float64\n",
            " 5   Duration    15000 non-null  float64\n",
            " 6   Heart_Rate  15000 non-null  float64\n",
            " 7   Body_Temp   15000 non-null  float64\n",
            " 8   Calories    15000 non-null  float64\n",
            "dtypes: float64(6), int64(2), object(1)\n",
            "memory usage: 1.0+ MB\n"
          ]
        }
      ]
    },
    {
      "cell_type": "code",
      "source": [
        "#checking the missing value\n",
        "df.isna().sum()"
      ],
      "metadata": {
        "colab": {
          "base_uri": "https://localhost:8080/",
          "height": 0
        },
        "id": "36RbSBjouUmB",
        "outputId": "883320b9-08a7-473d-eb11-3a2f8ff8efab"
      },
      "execution_count": 35,
      "outputs": [
        {
          "output_type": "execute_result",
          "data": {
            "text/plain": [
              "User_ID       0\n",
              "Gender        0\n",
              "Age           0\n",
              "Height        0\n",
              "Weight        0\n",
              "Duration      0\n",
              "Heart_Rate    0\n",
              "Body_Temp     0\n",
              "Calories      0\n",
              "dtype: int64"
            ]
          },
          "metadata": {},
          "execution_count": 35
        }
      ]
    },
    {
      "cell_type": "code",
      "source": [
        "#to check which type of data\n",
        "df.dtypes"
      ],
      "metadata": {
        "colab": {
          "base_uri": "https://localhost:8080/",
          "height": 0
        },
        "id": "Edo6dlbWcBlM",
        "outputId": "9f9ffb70-27ef-4494-fcb6-3c89fc5a3b66"
      },
      "execution_count": 65,
      "outputs": [
        {
          "output_type": "execute_result",
          "data": {
            "text/plain": [
              "User_ID         int64\n",
              "Gender          int64\n",
              "Age             int64\n",
              "Height        float64\n",
              "Weight        float64\n",
              "Duration      float64\n",
              "Heart_Rate    float64\n",
              "Body_Temp     float64\n",
              "Calories      float64\n",
              "dtype: object"
            ]
          },
          "metadata": {},
          "execution_count": 65
        }
      ]
    },
    {
      "cell_type": "markdown",
      "source": [
        "# Data Analysis"
      ],
      "metadata": {
        "id": "73B2Hre6ulFw"
      }
    },
    {
      "cell_type": "code",
      "source": [
        "# to get statistical measures about data\n",
        "df.describe()"
      ],
      "metadata": {
        "colab": {
          "base_uri": "https://localhost:8080/",
          "height": 300
        },
        "id": "WFZjJp69ufcz",
        "outputId": "8c27900a-7937-4e2d-fa73-e1274206af10"
      },
      "execution_count": 36,
      "outputs": [
        {
          "output_type": "execute_result",
          "data": {
            "text/plain": [
              "            User_ID           Age        Height        Weight      Duration  \\\n",
              "count  1.500000e+04  15000.000000  15000.000000  15000.000000  15000.000000   \n",
              "mean   1.497736e+07     42.789800    174.465133     74.966867     15.530600   \n",
              "std    2.872851e+06     16.980264     14.258114     15.035657      8.319203   \n",
              "min    1.000116e+07     20.000000    123.000000     36.000000      1.000000   \n",
              "25%    1.247419e+07     28.000000    164.000000     63.000000      8.000000   \n",
              "50%    1.499728e+07     39.000000    175.000000     74.000000     16.000000   \n",
              "75%    1.744928e+07     56.000000    185.000000     87.000000     23.000000   \n",
              "max    1.999965e+07     79.000000    222.000000    132.000000     30.000000   \n",
              "\n",
              "         Heart_Rate     Body_Temp      Calories  \n",
              "count  15000.000000  15000.000000  15000.000000  \n",
              "mean      95.518533     40.025453     89.539533  \n",
              "std        9.583328      0.779230     62.456978  \n",
              "min       67.000000     37.100000      1.000000  \n",
              "25%       88.000000     39.600000     35.000000  \n",
              "50%       96.000000     40.200000     79.000000  \n",
              "75%      103.000000     40.600000    138.000000  \n",
              "max      128.000000     41.500000    314.000000  "
            ],
            "text/html": [
              "\n",
              "  <div id=\"df-11cb5f00-fed8-48dc-9111-a94fb6af35ba\">\n",
              "    <div class=\"colab-df-container\">\n",
              "      <div>\n",
              "<style scoped>\n",
              "    .dataframe tbody tr th:only-of-type {\n",
              "        vertical-align: middle;\n",
              "    }\n",
              "\n",
              "    .dataframe tbody tr th {\n",
              "        vertical-align: top;\n",
              "    }\n",
              "\n",
              "    .dataframe thead th {\n",
              "        text-align: right;\n",
              "    }\n",
              "</style>\n",
              "<table border=\"1\" class=\"dataframe\">\n",
              "  <thead>\n",
              "    <tr style=\"text-align: right;\">\n",
              "      <th></th>\n",
              "      <th>User_ID</th>\n",
              "      <th>Age</th>\n",
              "      <th>Height</th>\n",
              "      <th>Weight</th>\n",
              "      <th>Duration</th>\n",
              "      <th>Heart_Rate</th>\n",
              "      <th>Body_Temp</th>\n",
              "      <th>Calories</th>\n",
              "    </tr>\n",
              "  </thead>\n",
              "  <tbody>\n",
              "    <tr>\n",
              "      <th>count</th>\n",
              "      <td>1.500000e+04</td>\n",
              "      <td>15000.000000</td>\n",
              "      <td>15000.000000</td>\n",
              "      <td>15000.000000</td>\n",
              "      <td>15000.000000</td>\n",
              "      <td>15000.000000</td>\n",
              "      <td>15000.000000</td>\n",
              "      <td>15000.000000</td>\n",
              "    </tr>\n",
              "    <tr>\n",
              "      <th>mean</th>\n",
              "      <td>1.497736e+07</td>\n",
              "      <td>42.789800</td>\n",
              "      <td>174.465133</td>\n",
              "      <td>74.966867</td>\n",
              "      <td>15.530600</td>\n",
              "      <td>95.518533</td>\n",
              "      <td>40.025453</td>\n",
              "      <td>89.539533</td>\n",
              "    </tr>\n",
              "    <tr>\n",
              "      <th>std</th>\n",
              "      <td>2.872851e+06</td>\n",
              "      <td>16.980264</td>\n",
              "      <td>14.258114</td>\n",
              "      <td>15.035657</td>\n",
              "      <td>8.319203</td>\n",
              "      <td>9.583328</td>\n",
              "      <td>0.779230</td>\n",
              "      <td>62.456978</td>\n",
              "    </tr>\n",
              "    <tr>\n",
              "      <th>min</th>\n",
              "      <td>1.000116e+07</td>\n",
              "      <td>20.000000</td>\n",
              "      <td>123.000000</td>\n",
              "      <td>36.000000</td>\n",
              "      <td>1.000000</td>\n",
              "      <td>67.000000</td>\n",
              "      <td>37.100000</td>\n",
              "      <td>1.000000</td>\n",
              "    </tr>\n",
              "    <tr>\n",
              "      <th>25%</th>\n",
              "      <td>1.247419e+07</td>\n",
              "      <td>28.000000</td>\n",
              "      <td>164.000000</td>\n",
              "      <td>63.000000</td>\n",
              "      <td>8.000000</td>\n",
              "      <td>88.000000</td>\n",
              "      <td>39.600000</td>\n",
              "      <td>35.000000</td>\n",
              "    </tr>\n",
              "    <tr>\n",
              "      <th>50%</th>\n",
              "      <td>1.499728e+07</td>\n",
              "      <td>39.000000</td>\n",
              "      <td>175.000000</td>\n",
              "      <td>74.000000</td>\n",
              "      <td>16.000000</td>\n",
              "      <td>96.000000</td>\n",
              "      <td>40.200000</td>\n",
              "      <td>79.000000</td>\n",
              "    </tr>\n",
              "    <tr>\n",
              "      <th>75%</th>\n",
              "      <td>1.744928e+07</td>\n",
              "      <td>56.000000</td>\n",
              "      <td>185.000000</td>\n",
              "      <td>87.000000</td>\n",
              "      <td>23.000000</td>\n",
              "      <td>103.000000</td>\n",
              "      <td>40.600000</td>\n",
              "      <td>138.000000</td>\n",
              "    </tr>\n",
              "    <tr>\n",
              "      <th>max</th>\n",
              "      <td>1.999965e+07</td>\n",
              "      <td>79.000000</td>\n",
              "      <td>222.000000</td>\n",
              "      <td>132.000000</td>\n",
              "      <td>30.000000</td>\n",
              "      <td>128.000000</td>\n",
              "      <td>41.500000</td>\n",
              "      <td>314.000000</td>\n",
              "    </tr>\n",
              "  </tbody>\n",
              "</table>\n",
              "</div>\n",
              "      <button class=\"colab-df-convert\" onclick=\"convertToInteractive('df-11cb5f00-fed8-48dc-9111-a94fb6af35ba')\"\n",
              "              title=\"Convert this dataframe to an interactive table.\"\n",
              "              style=\"display:none;\">\n",
              "        \n",
              "  <svg xmlns=\"http://www.w3.org/2000/svg\" height=\"24px\"viewBox=\"0 0 24 24\"\n",
              "       width=\"24px\">\n",
              "    <path d=\"M0 0h24v24H0V0z\" fill=\"none\"/>\n",
              "    <path d=\"M18.56 5.44l.94 2.06.94-2.06 2.06-.94-2.06-.94-.94-2.06-.94 2.06-2.06.94zm-11 1L8.5 8.5l.94-2.06 2.06-.94-2.06-.94L8.5 2.5l-.94 2.06-2.06.94zm10 10l.94 2.06.94-2.06 2.06-.94-2.06-.94-.94-2.06-.94 2.06-2.06.94z\"/><path d=\"M17.41 7.96l-1.37-1.37c-.4-.4-.92-.59-1.43-.59-.52 0-1.04.2-1.43.59L10.3 9.45l-7.72 7.72c-.78.78-.78 2.05 0 2.83L4 21.41c.39.39.9.59 1.41.59.51 0 1.02-.2 1.41-.59l7.78-7.78 2.81-2.81c.8-.78.8-2.07 0-2.86zM5.41 20L4 18.59l7.72-7.72 1.47 1.35L5.41 20z\"/>\n",
              "  </svg>\n",
              "      </button>\n",
              "      \n",
              "  <style>\n",
              "    .colab-df-container {\n",
              "      display:flex;\n",
              "      flex-wrap:wrap;\n",
              "      gap: 12px;\n",
              "    }\n",
              "\n",
              "    .colab-df-convert {\n",
              "      background-color: #E8F0FE;\n",
              "      border: none;\n",
              "      border-radius: 50%;\n",
              "      cursor: pointer;\n",
              "      display: none;\n",
              "      fill: #1967D2;\n",
              "      height: 32px;\n",
              "      padding: 0 0 0 0;\n",
              "      width: 32px;\n",
              "    }\n",
              "\n",
              "    .colab-df-convert:hover {\n",
              "      background-color: #E2EBFA;\n",
              "      box-shadow: 0px 1px 2px rgba(60, 64, 67, 0.3), 0px 1px 3px 1px rgba(60, 64, 67, 0.15);\n",
              "      fill: #174EA6;\n",
              "    }\n",
              "\n",
              "    [theme=dark] .colab-df-convert {\n",
              "      background-color: #3B4455;\n",
              "      fill: #D2E3FC;\n",
              "    }\n",
              "\n",
              "    [theme=dark] .colab-df-convert:hover {\n",
              "      background-color: #434B5C;\n",
              "      box-shadow: 0px 1px 3px 1px rgba(0, 0, 0, 0.15);\n",
              "      filter: drop-shadow(0px 1px 2px rgba(0, 0, 0, 0.3));\n",
              "      fill: #FFFFFF;\n",
              "    }\n",
              "  </style>\n",
              "\n",
              "      <script>\n",
              "        const buttonEl =\n",
              "          document.querySelector('#df-11cb5f00-fed8-48dc-9111-a94fb6af35ba button.colab-df-convert');\n",
              "        buttonEl.style.display =\n",
              "          google.colab.kernel.accessAllowed ? 'block' : 'none';\n",
              "\n",
              "        async function convertToInteractive(key) {\n",
              "          const element = document.querySelector('#df-11cb5f00-fed8-48dc-9111-a94fb6af35ba');\n",
              "          const dataTable =\n",
              "            await google.colab.kernel.invokeFunction('convertToInteractive',\n",
              "                                                     [key], {});\n",
              "          if (!dataTable) return;\n",
              "\n",
              "          const docLinkHtml = 'Like what you see? Visit the ' +\n",
              "            '<a target=\"_blank\" href=https://colab.research.google.com/notebooks/data_table.ipynb>data table notebook</a>'\n",
              "            + ' to learn more about interactive tables.';\n",
              "          element.innerHTML = '';\n",
              "          dataTable['output_type'] = 'display_data';\n",
              "          await google.colab.output.renderOutput(dataTable, element);\n",
              "          const docLink = document.createElement('div');\n",
              "          docLink.innerHTML = docLinkHtml;\n",
              "          element.appendChild(docLink);\n",
              "        }\n",
              "      </script>\n",
              "    </div>\n",
              "  </div>\n",
              "  "
            ]
          },
          "metadata": {},
          "execution_count": 36
        }
      ]
    },
    {
      "cell_type": "markdown",
      "source": [
        "# Data Visualization"
      ],
      "metadata": {
        "id": "1saKa5jRx05q"
      }
    },
    {
      "cell_type": "code",
      "source": [
        "sns.set()"
      ],
      "metadata": {
        "id": "MgX59mV1u90D"
      },
      "execution_count": 37,
      "outputs": []
    },
    {
      "cell_type": "code",
      "source": [
        "features = ['Age', 'Height', 'Weight', 'Duration']\n",
        "  \n",
        "plt.subplots(figsize=(15, 10))\n",
        "for i, col in enumerate(features):\n",
        "    plt.subplot(2, 2, i + 1)\n",
        "    x = df.sample(1000)\n",
        "    sns.scatterplot(x[col], x['Calories'])\n",
        "plt.tight_layout()\n",
        "plt.show()"
      ],
      "metadata": {
        "colab": {
          "base_uri": "https://localhost:8080/",
          "height": 891
        },
        "id": "HGB4aoaoORhM",
        "outputId": "d7ea6418-98cc-4fd1-ed0c-343467f019e9"
      },
      "execution_count": 38,
      "outputs": [
        {
          "output_type": "stream",
          "name": "stderr",
          "text": [
            "/usr/local/lib/python3.8/dist-packages/seaborn/_decorators.py:36: FutureWarning: Pass the following variables as keyword args: x, y. From version 0.12, the only valid positional argument will be `data`, and passing other arguments without an explicit keyword will result in an error or misinterpretation.\n",
            "  warnings.warn(\n",
            "/usr/local/lib/python3.8/dist-packages/seaborn/_decorators.py:36: FutureWarning: Pass the following variables as keyword args: x, y. From version 0.12, the only valid positional argument will be `data`, and passing other arguments without an explicit keyword will result in an error or misinterpretation.\n",
            "  warnings.warn(\n",
            "/usr/local/lib/python3.8/dist-packages/seaborn/_decorators.py:36: FutureWarning: Pass the following variables as keyword args: x, y. From version 0.12, the only valid positional argument will be `data`, and passing other arguments without an explicit keyword will result in an error or misinterpretation.\n",
            "  warnings.warn(\n",
            "/usr/local/lib/python3.8/dist-packages/seaborn/_decorators.py:36: FutureWarning: Pass the following variables as keyword args: x, y. From version 0.12, the only valid positional argument will be `data`, and passing other arguments without an explicit keyword will result in an error or misinterpretation.\n",
            "  warnings.warn(\n"
          ]
        },
        {
          "output_type": "display_data",
          "data": {
            "text/plain": [
              "<Figure size 1080x720 with 4 Axes>"
            ],
            "image/png": "[encoded data removed]"
          },
          "metadata": {}
        }
      ]
    },
    {
      "cell_type": "code",
      "source": [
        "#plotting the gender column in count plot\n",
        "sns.countplot(df['Gender'])"
      ],
      "metadata": {
        "colab": {
          "base_uri": "https://localhost:8080/",
          "height": 360
        },
        "id": "ZXnBqrfFHxbQ",
        "outputId": "fadc711e-20e2-45fc-e0cb-75695ce7eb13"
      },
      "execution_count": 39,
      "outputs": [
        {
          "output_type": "stream",
          "name": "stderr",
          "text": [
            "/usr/local/lib/python3.8/dist-packages/seaborn/_decorators.py:36: FutureWarning: Pass the following variable as a keyword arg: x. From version 0.12, the only valid positional argument will be `data`, and passing other arguments without an explicit keyword will result in an error or misinterpretation.\n",
            "  warnings.warn(\n"
          ]
        },
        {
          "output_type": "execute_result",
          "data": {
            "text/plain": [
              "<matplotlib.axes._subplots.AxesSubplot at 0x7f38d1f7fdc0>"
            ]
          },
          "metadata": {},
          "execution_count": 39
        },
        {
          "output_type": "display_data",
          "data": {
            "text/plain": [
              "<Figure size 432x288 with 1 Axes>"
            ],
            "image/png": "[encoded data removed]"
          },
          "metadata": {}
        }
      ]
    },
    {
      "cell_type": "code",
      "source": [
        "# finding the distribution of age column\n",
        "sns.displot(df['Age'])"
      ],
      "metadata": {
        "colab": {
          "base_uri": "https://localhost:8080/",
          "height": 383
        },
        "id": "nhuGJy2jIjZF",
        "outputId": "a3ae8e08-bc2d-41b0-84e3-19c51317409f"
      },
      "execution_count": 40,
      "outputs": [
        {
          "output_type": "execute_result",
          "data": {
            "text/plain": [
              "<seaborn.axisgrid.FacetGrid at 0x7f38cd161220>"
            ]
          },
          "metadata": {},
          "execution_count": 40
        },
        {
          "output_type": "display_data",
          "data": {
            "text/plain": [
              "<Figure size 360x360 with 1 Axes>"
            ],
            "image/png": "[encoded data removed]"
          },
          "metadata": {}
        }
      ]
    },
    {
      "cell_type": "code",
      "source": [
        "# finding the distribution of Height column\n",
        "sns.distplot(df['Height'])"
      ],
      "metadata": {
        "colab": {
          "base_uri": "https://localhost:8080/",
          "height": 360
        },
        "id": "6pKNWyjTJjHp",
        "outputId": "7576c05d-a2f6-4bce-d18e-f95ab0d224a6"
      },
      "execution_count": 41,
      "outputs": [
        {
          "output_type": "stream",
          "name": "stderr",
          "text": [
            "/usr/local/lib/python3.8/dist-packages/seaborn/distributions.py:2619: FutureWarning: `distplot` is a deprecated function and will be removed in a future version. Please adapt your code to use either `displot` (a figure-level function with similar flexibility) or `histplot` (an axes-level function for histograms).\n",
            "  warnings.warn(msg, FutureWarning)\n"
          ]
        },
        {
          "output_type": "execute_result",
          "data": {
            "text/plain": [
              "<matplotlib.axes._subplots.AxesSubplot at 0x7f38d1f967c0>"
            ]
          },
          "metadata": {},
          "execution_count": 41
        },
        {
          "output_type": "display_data",
          "data": {
            "text/plain": [
              "<Figure size 432x288 with 1 Axes>"
            ],
            "image/png": "[encoded data removed]"
          },
          "metadata": {}
        }
      ]
    },
    {
      "cell_type": "code",
      "source": [
        "# finding the distribution of weight column\n",
        "sns.displot(df['Weight'])"
      ],
      "metadata": {
        "colab": {
          "base_uri": "https://localhost:8080/",
          "height": 383
        },
        "id": "YTD_vxhhJ9JY",
        "outputId": "d074088d-95f7-47f4-c454-0732665bd55c"
      },
      "execution_count": 42,
      "outputs": [
        {
          "output_type": "execute_result",
          "data": {
            "text/plain": [
              "<seaborn.axisgrid.FacetGrid at 0x7f38d1f07310>"
            ]
          },
          "metadata": {},
          "execution_count": 42
        },
        {
          "output_type": "display_data",
          "data": {
            "text/plain": [
              "<Figure size 360x360 with 1 Axes>"
            ],
            "image/png": "[encoded data removed]"
          },
          "metadata": {}
        }
      ]
    },
    {
      "cell_type": "code",
      "source": [
        "# finding the distribution of \tDuration  column\n",
        "sns.displot(df['Duration'])"
      ],
      "metadata": {
        "colab": {
          "base_uri": "https://localhost:8080/",
          "height": 383
        },
        "id": "uYuL_hZ2Lw2X",
        "outputId": "87dc310b-4bce-4791-e666-0853c3c33fad"
      },
      "execution_count": 43,
      "outputs": [
        {
          "output_type": "execute_result",
          "data": {
            "text/plain": [
              "<seaborn.axisgrid.FacetGrid at 0x7f38d1e95fa0>"
            ]
          },
          "metadata": {},
          "execution_count": 43
        },
        {
          "output_type": "display_data",
          "data": {
            "text/plain": [
              "<Figure size 360x360 with 1 Axes>"
            ],
            "image/png": "[encoded data removed]"
          },
          "metadata": {}
        }
      ]
    },
    {
      "cell_type": "markdown",
      "source": [
        "# finding the correlation in the dataset\n",
        "1.postive correlation\n",
        "2.Negative correlation"
      ],
      "metadata": {
        "id": "58tixsT3MjaU"
      }
    },
    {
      "cell_type": "code",
      "source": [
        "correlation=df.corr()"
      ],
      "metadata": {
        "id": "iEKSt8IOaCpi"
      },
      "execution_count": 44,
      "outputs": []
    },
    {
      "cell_type": "code",
      "source": [
        "#construction of  heatmap to understand the correlation\n",
        "plt.figure(figsize=(10,10))\n",
        "sns.heatmap(correlation, cbar=True, square=True, fmt='.1f', annot=True, annot_kws={'size':8},cmap='Oranges')"
      ],
      "metadata": {
        "colab": {
          "base_uri": "https://localhost:8080/",
          "height": 620
        },
        "id": "rVOASwkOMfUw",
        "outputId": "160f8983-5c50-40db-f0fc-118fb39bb987"
      },
      "execution_count": 45,
      "outputs": [
        {
          "output_type": "execute_result",
          "data": {
            "text/plain": [
              "<matplotlib.axes._subplots.AxesSubplot at 0x7f38d1da0700>"
            ]
          },
          "metadata": {},
          "execution_count": 45
        },
        {
          "output_type": "display_data",
          "data": {
            "text/plain": [
              "<Figure size 720x720 with 2 Axes>"
            ],
            "image/png": "[encoded data removed]"
          },
          "metadata": {}
        }
      ]
    },
    {
      "cell_type": "markdown",
      "source": [
        "#converting the text data to numeric values"
      ],
      "metadata": {
        "id": "3n2EUn0sSbrM"
      }
    },
    {
      "cell_type": "code",
      "source": [
        "df.replace({\"Gender\":{'male':0,'female':1}},inplace=True)\n",
        "df"
      ],
      "metadata": {
        "colab": {
          "base_uri": "https://localhost:8080/",
          "height": 423
        },
        "id": "lth4M1vARchk",
        "outputId": "87819d7e-bcbe-4be0-c470-a5cd666d9648"
      },
      "execution_count": 46,
      "outputs": [
        {
          "output_type": "execute_result",
          "data": {
            "text/plain": [
              "        User_ID  Gender  Age  Height  Weight  Duration  Heart_Rate  Body_Temp  \\\n",
              "0      14733363       0   68   190.0    94.0      29.0       105.0       40.8   \n",
              "1      14861698       1   20   166.0    60.0      14.0        94.0       40.3   \n",
              "2      11179863       0   69   179.0    79.0       5.0        88.0       38.7   \n",
              "3      16180408       1   34   179.0    71.0      13.0       100.0       40.5   \n",
              "4      17771927       1   27   154.0    58.0      10.0        81.0       39.8   \n",
              "...         ...     ...  ...     ...     ...       ...         ...        ...   \n",
              "14995  15644082       1   20   193.0    86.0      11.0        92.0       40.4   \n",
              "14996  17212577       1   27   165.0    65.0       6.0        85.0       39.2   \n",
              "14997  17271188       1   43   159.0    58.0      16.0        90.0       40.1   \n",
              "14998  18643037       0   78   193.0    97.0       2.0        84.0       38.3   \n",
              "14999  11751526       0   63   173.0    79.0      18.0        92.0       40.5   \n",
              "\n",
              "       Calories  \n",
              "0         231.0  \n",
              "1          66.0  \n",
              "2          26.0  \n",
              "3          71.0  \n",
              "4          35.0  \n",
              "...         ...  \n",
              "14995      45.0  \n",
              "14996      23.0  \n",
              "14997      75.0  \n",
              "14998      11.0  \n",
              "14999      98.0  \n",
              "\n",
              "[15000 rows x 9 columns]"
            ],
            "text/html": [
              "\n",
              "  <div id=\"df-2c6b557c-d222-465a-9bc0-1108f4946cd6\">\n",
              "    <div class=\"colab-df-container\">\n",
              "      <div>\n",
              "<style scoped>\n",
              "    .dataframe tbody tr th:only-of-type {\n",
              "        vertical-align: middle;\n",
              "    }\n",
              "\n",
              "    .dataframe tbody tr th {\n",
              "        vertical-align: top;\n",
              "    }\n",
              "\n",
              "    .dataframe thead th {\n",
              "        text-align: right;\n",
              "    }\n",
              "</style>\n",
              "<table border=\"1\" class=\"dataframe\">\n",
              "  <thead>\n",
              "    <tr style=\"text-align: right;\">\n",
              "      <th></th>\n",
              "      <th>User_ID</th>\n",
              "      <th>Gender</th>\n",
              "      <th>Age</th>\n",
              "      <th>Height</th>\n",
              "      <th>Weight</th>\n",
              "      <th>Duration</th>\n",
              "      <th>Heart_Rate</th>\n",
              "      <th>Body_Temp</th>\n",
              "      <th>Calories</th>\n",
              "    </tr>\n",
              "  </thead>\n",
              "  <tbody>\n",
              "    <tr>\n",
              "      <th>0</th>\n",
              "      <td>14733363</td>\n",
              "      <td>0</td>\n",
              "      <td>68</td>\n",
              "      <td>190.0</td>\n",
              "      <td>94.0</td>\n",
              "      <td>29.0</td>\n",
              "      <td>105.0</td>\n",
              "      <td>40.8</td>\n",
              "      <td>231.0</td>\n",
              "    </tr>\n",
              "    <tr>\n",
              "      <th>1</th>\n",
              "      <td>14861698</td>\n",
              "      <td>1</td>\n",
              "      <td>20</td>\n",
              "      <td>166.0</td>\n",
              "      <td>60.0</td>\n",
              "      <td>14.0</td>\n",
              "      <td>94.0</td>\n",
              "      <td>40.3</td>\n",
              "      <td>66.0</td>\n",
              "    </tr>\n",
              "    <tr>\n",
              "      <th>2</th>\n",
              "      <td>11179863</td>\n",
              "      <td>0</td>\n",
              "      <td>69</td>\n",
              "      <td>179.0</td>\n",
              "      <td>79.0</td>\n",
              "      <td>5.0</td>\n",
              "      <td>88.0</td>\n",
              "      <td>38.7</td>\n",
              "      <td>26.0</td>\n",
              "    </tr>\n",
              "    <tr>\n",
              "      <th>3</th>\n",
              "      <td>16180408</td>\n",
              "      <td>1</td>\n",
              "      <td>34</td>\n",
              "      <td>179.0</td>\n",
              "      <td>71.0</td>\n",
              "      <td>13.0</td>\n",
              "      <td>100.0</td>\n",
              "      <td>40.5</td>\n",
              "      <td>71.0</td>\n",
              "    </tr>\n",
              "    <tr>\n",
              "      <th>4</th>\n",
              "      <td>17771927</td>\n",
              "      <td>1</td>\n",
              "      <td>27</td>\n",
              "      <td>154.0</td>\n",
              "      <td>58.0</td>\n",
              "      <td>10.0</td>\n",
              "      <td>81.0</td>\n",
              "      <td>39.8</td>\n",
              "      <td>35.0</td>\n",
              "    </tr>\n",
              "    <tr>\n",
              "      <th>...</th>\n",
              "      <td>...</td>\n",
              "      <td>...</td>\n",
              "      <td>...</td>\n",
              "      <td>...</td>\n",
              "      <td>...</td>\n",
              "      <td>...</td>\n",
              "      <td>...</td>\n",
              "      <td>...</td>\n",
              "      <td>...</td>\n",
              "    </tr>\n",
              "    <tr>\n",
              "      <th>14995</th>\n",
              "      <td>15644082</td>\n",
              "      <td>1</td>\n",
              "      <td>20</td>\n",
              "      <td>193.0</td>\n",
              "      <td>86.0</td>\n",
              "      <td>11.0</td>\n",
              "      <td>92.0</td>\n",
              "      <td>40.4</td>\n",
              "      <td>45.0</td>\n",
              "    </tr>\n",
              "    <tr>\n",
              "      <th>14996</th>\n",
              "      <td>17212577</td>\n",
              "      <td>1</td>\n",
              "      <td>27</td>\n",
              "      <td>165.0</td>\n",
              "      <td>65.0</td>\n",
              "      <td>6.0</td>\n",
              "      <td>85.0</td>\n",
              "      <td>39.2</td>\n",
              "      <td>23.0</td>\n",
              "    </tr>\n",
              "    <tr>\n",
              "      <th>14997</th>\n",
              "      <td>17271188</td>\n",
              "      <td>1</td>\n",
              "      <td>43</td>\n",
              "      <td>159.0</td>\n",
              "      <td>58.0</td>\n",
              "      <td>16.0</td>\n",
              "      <td>90.0</td>\n",
              "      <td>40.1</td>\n",
              "      <td>75.0</td>\n",
              "    </tr>\n",
              "    <tr>\n",
              "      <th>14998</th>\n",
              "      <td>18643037</td>\n",
              "      <td>0</td>\n",
              "      <td>78</td>\n",
              "      <td>193.0</td>\n",
              "      <td>97.0</td>\n",
              "      <td>2.0</td>\n",
              "      <td>84.0</td>\n",
              "      <td>38.3</td>\n",
              "      <td>11.0</td>\n",
              "    </tr>\n",
              "    <tr>\n",
              "      <th>14999</th>\n",
              "      <td>11751526</td>\n",
              "      <td>0</td>\n",
              "      <td>63</td>\n",
              "      <td>173.0</td>\n",
              "      <td>79.0</td>\n",
              "      <td>18.0</td>\n",
              "      <td>92.0</td>\n",
              "      <td>40.5</td>\n",
              "      <td>98.0</td>\n",
              "    </tr>\n",
              "  </tbody>\n",
              "</table>\n",
              "<p>15000 rows × 9 columns</p>\n",
              "</div>\n",
              "      <button class=\"colab-df-convert\" onclick=\"convertToInteractive('df-2c6b557c-d222-465a-9bc0-1108f4946cd6')\"\n",
              "              title=\"Convert this dataframe to an interactive table.\"\n",
              "              style=\"display:none;\">\n",
              "        \n",
              "  <svg xmlns=\"http://www.w3.org/2000/svg\" height=\"24px\"viewBox=\"0 0 24 24\"\n",
              "       width=\"24px\">\n",
              "    <path d=\"M0 0h24v24H0V0z\" fill=\"none\"/>\n",
              "    <path d=\"M18.56 5.44l.94 2.06.94-2.06 2.06-.94-2.06-.94-.94-2.06-.94 2.06-2.06.94zm-11 1L8.5 8.5l.94-2.06 2.06-.94-2.06-.94L8.5 2.5l-.94 2.06-2.06.94zm10 10l.94 2.06.94-2.06 2.06-.94-2.06-.94-.94-2.06-.94 2.06-2.06.94z\"/><path d=\"M17.41 7.96l-1.37-1.37c-.4-.4-.92-.59-1.43-.59-.52 0-1.04.2-1.43.59L10.3 9.45l-7.72 7.72c-.78.78-.78 2.05 0 2.83L4 21.41c.39.39.9.59 1.41.59.51 0 1.02-.2 1.41-.59l7.78-7.78 2.81-2.81c.8-.78.8-2.07 0-2.86zM5.41 20L4 18.59l7.72-7.72 1.47 1.35L5.41 20z\"/>\n",
              "  </svg>\n",
              "      </button>\n",
              "      \n",
              "  <style>\n",
              "    .colab-df-container {\n",
              "      display:flex;\n",
              "      flex-wrap:wrap;\n",
              "      gap: 12px;\n",
              "    }\n",
              "\n",
              "    .colab-df-convert {\n",
              "      background-color: #E8F0FE;\n",
              "      border: none;\n",
              "      border-radius: 50%;\n",
              "      cursor: pointer;\n",
              "      display: none;\n",
              "      fill: #1967D2;\n",
              "      height: 32px;\n",
              "      padding: 0 0 0 0;\n",
              "      width: 32px;\n",
              "    }\n",
              "\n",
              "    .colab-df-convert:hover {\n",
              "      background-color: #E2EBFA;\n",
              "      box-shadow: 0px 1px 2px rgba(60, 64, 67, 0.3), 0px 1px 3px 1px rgba(60, 64, 67, 0.15);\n",
              "      fill: #174EA6;\n",
              "    }\n",
              "\n",
              "    [theme=dark] .colab-df-convert {\n",
              "      background-color: #3B4455;\n",
              "      fill: #D2E3FC;\n",
              "    }\n",
              "\n",
              "    [theme=dark] .colab-df-convert:hover {\n",
              "      background-color: #434B5C;\n",
              "      box-shadow: 0px 1px 3px 1px rgba(0, 0, 0, 0.15);\n",
              "      filter: drop-shadow(0px 1px 2px rgba(0, 0, 0, 0.3));\n",
              "      fill: #FFFFFF;\n",
              "    }\n",
              "  </style>\n",
              "\n",
              "      <script>\n",
              "        const buttonEl =\n",
              "          document.querySelector('#df-2c6b557c-d222-465a-9bc0-1108f4946cd6 button.colab-df-convert');\n",
              "        buttonEl.style.display =\n",
              "          google.colab.kernel.accessAllowed ? 'block' : 'none';\n",
              "\n",
              "        async function convertToInteractive(key) {\n",
              "          const element = document.querySelector('#df-2c6b557c-d222-465a-9bc0-1108f4946cd6');\n",
              "          const dataTable =\n",
              "            await google.colab.kernel.invokeFunction('convertToInteractive',\n",
              "                                                     [key], {});\n",
              "          if (!dataTable) return;\n",
              "\n",
              "          const docLinkHtml = 'Like what you see? Visit the ' +\n",
              "            '<a target=\"_blank\" href=https://colab.research.google.com/notebooks/data_table.ipynb>data table notebook</a>'\n",
              "            + ' to learn more about interactive tables.';\n",
              "          element.innerHTML = '';\n",
              "          dataTable['output_type'] = 'display_data';\n",
              "          await google.colab.output.renderOutput(dataTable, element);\n",
              "          const docLink = document.createElement('div');\n",
              "          docLink.innerHTML = docLinkHtml;\n",
              "          element.appendChild(docLink);\n",
              "        }\n",
              "      </script>\n",
              "    </div>\n",
              "  </div>\n",
              "  "
            ]
          },
          "metadata": {},
          "execution_count": 46
        }
      ]
    },
    {
      "cell_type": "code",
      "source": [
        "df3=df.drop(columns=['User_ID'],axis=1)\n",
        "df3"
      ],
      "metadata": {
        "colab": {
          "base_uri": "https://localhost:8080/",
          "height": 423
        },
        "id": "m2jhfo2IUyou",
        "outputId": "1cbd8a2a-888c-4aa1-a8be-5f137d85d5e0"
      },
      "execution_count": 47,
      "outputs": [
        {
          "output_type": "execute_result",
          "data": {
            "text/plain": [
              "       Gender  Age  Height  Weight  Duration  Heart_Rate  Body_Temp  Calories\n",
              "0           0   68   190.0    94.0      29.0       105.0       40.8     231.0\n",
              "1           1   20   166.0    60.0      14.0        94.0       40.3      66.0\n",
              "2           0   69   179.0    79.0       5.0        88.0       38.7      26.0\n",
              "3           1   34   179.0    71.0      13.0       100.0       40.5      71.0\n",
              "4           1   27   154.0    58.0      10.0        81.0       39.8      35.0\n",
              "...       ...  ...     ...     ...       ...         ...        ...       ...\n",
              "14995       1   20   193.0    86.0      11.0        92.0       40.4      45.0\n",
              "14996       1   27   165.0    65.0       6.0        85.0       39.2      23.0\n",
              "14997       1   43   159.0    58.0      16.0        90.0       40.1      75.0\n",
              "14998       0   78   193.0    97.0       2.0        84.0       38.3      11.0\n",
              "14999       0   63   173.0    79.0      18.0        92.0       40.5      98.0\n",
              "\n",
              "[15000 rows x 8 columns]"
            ],
            "text/html": [
              "\n",
              "  <div id=\"df-f1c094a2-5237-4dd4-925f-86c57fae8f86\">\n",
              "    <div class=\"colab-df-container\">\n",
              "      <div>\n",
              "<style scoped>\n",
              "    .dataframe tbody tr th:only-of-type {\n",
              "        vertical-align: middle;\n",
              "    }\n",
              "\n",
              "    .dataframe tbody tr th {\n",
              "        vertical-align: top;\n",
              "    }\n",
              "\n",
              "    .dataframe thead th {\n",
              "        text-align: right;\n",
              "    }\n",
              "</style>\n",
              "<table border=\"1\" class=\"dataframe\">\n",
              "  <thead>\n",
              "    <tr style=\"text-align: right;\">\n",
              "      <th></th>\n",
              "      <th>Gender</th>\n",
              "      <th>Age</th>\n",
              "      <th>Height</th>\n",
              "      <th>Weight</th>\n",
              "      <th>Duration</th>\n",
              "      <th>Heart_Rate</th>\n",
              "      <th>Body_Temp</th>\n",
              "      <th>Calories</th>\n",
              "    </tr>\n",
              "  </thead>\n",
              "  <tbody>\n",
              "    <tr>\n",
              "      <th>0</th>\n",
              "      <td>0</td>\n",
              "      <td>68</td>\n",
              "      <td>190.0</td>\n",
              "      <td>94.0</td>\n",
              "      <td>29.0</td>\n",
              "      <td>105.0</td>\n",
              "      <td>40.8</td>\n",
              "      <td>231.0</td>\n",
              "    </tr>\n",
              "    <tr>\n",
              "      <th>1</th>\n",
              "      <td>1</td>\n",
              "      <td>20</td>\n",
              "      <td>166.0</td>\n",
              "      <td>60.0</td>\n",
              "      <td>14.0</td>\n",
              "      <td>94.0</td>\n",
              "      <td>40.3</td>\n",
              "      <td>66.0</td>\n",
              "    </tr>\n",
              "    <tr>\n",
              "      <th>2</th>\n",
              "      <td>0</td>\n",
              "      <td>69</td>\n",
              "      <td>179.0</td>\n",
              "      <td>79.0</td>\n",
              "      <td>5.0</td>\n",
              "      <td>88.0</td>\n",
              "      <td>38.7</td>\n",
              "      <td>26.0</td>\n",
              "    </tr>\n",
              "    <tr>\n",
              "      <th>3</th>\n",
              "      <td>1</td>\n",
              "      <td>34</td>\n",
              "      <td>179.0</td>\n",
              "      <td>71.0</td>\n",
              "      <td>13.0</td>\n",
              "      <td>100.0</td>\n",
              "      <td>40.5</td>\n",
              "      <td>71.0</td>\n",
              "    </tr>\n",
              "    <tr>\n",
              "      <th>4</th>\n",
              "      <td>1</td>\n",
              "      <td>27</td>\n",
              "      <td>154.0</td>\n",
              "      <td>58.0</td>\n",
              "      <td>10.0</td>\n",
              "      <td>81.0</td>\n",
              "      <td>39.8</td>\n",
              "      <td>35.0</td>\n",
              "    </tr>\n",
              "    <tr>\n",
              "      <th>...</th>\n",
              "      <td>...</td>\n",
              "      <td>...</td>\n",
              "      <td>...</td>\n",
              "      <td>...</td>\n",
              "      <td>...</td>\n",
              "      <td>...</td>\n",
              "      <td>...</td>\n",
              "      <td>...</td>\n",
              "    </tr>\n",
              "    <tr>\n",
              "      <th>14995</th>\n",
              "      <td>1</td>\n",
              "      <td>20</td>\n",
              "      <td>193.0</td>\n",
              "      <td>86.0</td>\n",
              "      <td>11.0</td>\n",
              "      <td>92.0</td>\n",
              "      <td>40.4</td>\n",
              "      <td>45.0</td>\n",
              "    </tr>\n",
              "    <tr>\n",
              "      <th>14996</th>\n",
              "      <td>1</td>\n",
              "      <td>27</td>\n",
              "      <td>165.0</td>\n",
              "      <td>65.0</td>\n",
              "      <td>6.0</td>\n",
              "      <td>85.0</td>\n",
              "      <td>39.2</td>\n",
              "      <td>23.0</td>\n",
              "    </tr>\n",
              "    <tr>\n",
              "      <th>14997</th>\n",
              "      <td>1</td>\n",
              "      <td>43</td>\n",
              "      <td>159.0</td>\n",
              "      <td>58.0</td>\n",
              "      <td>16.0</td>\n",
              "      <td>90.0</td>\n",
              "      <td>40.1</td>\n",
              "      <td>75.0</td>\n",
              "    </tr>\n",
              "    <tr>\n",
              "      <th>14998</th>\n",
              "      <td>0</td>\n",
              "      <td>78</td>\n",
              "      <td>193.0</td>\n",
              "      <td>97.0</td>\n",
              "      <td>2.0</td>\n",
              "      <td>84.0</td>\n",
              "      <td>38.3</td>\n",
              "      <td>11.0</td>\n",
              "    </tr>\n",
              "    <tr>\n",
              "      <th>14999</th>\n",
              "      <td>0</td>\n",
              "      <td>63</td>\n",
              "      <td>173.0</td>\n",
              "      <td>79.0</td>\n",
              "      <td>18.0</td>\n",
              "      <td>92.0</td>\n",
              "      <td>40.5</td>\n",
              "      <td>98.0</td>\n",
              "    </tr>\n",
              "  </tbody>\n",
              "</table>\n",
              "<p>15000 rows × 8 columns</p>\n",
              "</div>\n",
              "      <button class=\"colab-df-convert\" onclick=\"convertToInteractive('df-f1c094a2-5237-4dd4-925f-86c57fae8f86')\"\n",
              "              title=\"Convert this dataframe to an interactive table.\"\n",
              "              style=\"display:none;\">\n",
              "        \n",
              "  <svg xmlns=\"http://www.w3.org/2000/svg\" height=\"24px\"viewBox=\"0 0 24 24\"\n",
              "       width=\"24px\">\n",
              "    <path d=\"M0 0h24v24H0V0z\" fill=\"none\"/>\n",
              "    <path d=\"M18.56 5.44l.94 2.06.94-2.06 2.06-.94-2.06-.94-.94-2.06-.94 2.06-2.06.94zm-11 1L8.5 8.5l.94-2.06 2.06-.94-2.06-.94L8.5 2.5l-.94 2.06-2.06.94zm10 10l.94 2.06.94-2.06 2.06-.94-2.06-.94-.94-2.06-.94 2.06-2.06.94z\"/><path d=\"M17.41 7.96l-1.37-1.37c-.4-.4-.92-.59-1.43-.59-.52 0-1.04.2-1.43.59L10.3 9.45l-7.72 7.72c-.78.78-.78 2.05 0 2.83L4 21.41c.39.39.9.59 1.41.59.51 0 1.02-.2 1.41-.59l7.78-7.78 2.81-2.81c.8-.78.8-2.07 0-2.86zM5.41 20L4 18.59l7.72-7.72 1.47 1.35L5.41 20z\"/>\n",
              "  </svg>\n",
              "      </button>\n",
              "      \n",
              "  <style>\n",
              "    .colab-df-container {\n",
              "      display:flex;\n",
              "      flex-wrap:wrap;\n",
              "      gap: 12px;\n",
              "    }\n",
              "\n",
              "    .colab-df-convert {\n",
              "      background-color: #E8F0FE;\n",
              "      border: none;\n",
              "      border-radius: 50%;\n",
              "      cursor: pointer;\n",
              "      display: none;\n",
              "      fill: #1967D2;\n",
              "      height: 32px;\n",
              "      padding: 0 0 0 0;\n",
              "      width: 32px;\n",
              "    }\n",
              "\n",
              "    .colab-df-convert:hover {\n",
              "      background-color: #E2EBFA;\n",
              "      box-shadow: 0px 1px 2px rgba(60, 64, 67, 0.3), 0px 1px 3px 1px rgba(60, 64, 67, 0.15);\n",
              "      fill: #174EA6;\n",
              "    }\n",
              "\n",
              "    [theme=dark] .colab-df-convert {\n",
              "      background-color: #3B4455;\n",
              "      fill: #D2E3FC;\n",
              "    }\n",
              "\n",
              "    [theme=dark] .colab-df-convert:hover {\n",
              "      background-color: #434B5C;\n",
              "      box-shadow: 0px 1px 3px 1px rgba(0, 0, 0, 0.15);\n",
              "      filter: drop-shadow(0px 1px 2px rgba(0, 0, 0, 0.3));\n",
              "      fill: #FFFFFF;\n",
              "    }\n",
              "  </style>\n",
              "\n",
              "      <script>\n",
              "        const buttonEl =\n",
              "          document.querySelector('#df-f1c094a2-5237-4dd4-925f-86c57fae8f86 button.colab-df-convert');\n",
              "        buttonEl.style.display =\n",
              "          google.colab.kernel.accessAllowed ? 'block' : 'none';\n",
              "\n",
              "        async function convertToInteractive(key) {\n",
              "          const element = document.querySelector('#df-f1c094a2-5237-4dd4-925f-86c57fae8f86');\n",
              "          const dataTable =\n",
              "            await google.colab.kernel.invokeFunction('convertToInteractive',\n",
              "                                                     [key], {});\n",
              "          if (!dataTable) return;\n",
              "\n",
              "          const docLinkHtml = 'Like what you see? Visit the ' +\n",
              "            '<a target=\"_blank\" href=https://colab.research.google.com/notebooks/data_table.ipynb>data table notebook</a>'\n",
              "            + ' to learn more about interactive tables.';\n",
              "          element.innerHTML = '';\n",
              "          dataTable['output_type'] = 'display_data';\n",
              "          await google.colab.output.renderOutput(dataTable, element);\n",
              "          const docLink = document.createElement('div');\n",
              "          docLink.innerHTML = docLinkHtml;\n",
              "          element.appendChild(docLink);\n",
              "        }\n",
              "      </script>\n",
              "    </div>\n",
              "  </div>\n",
              "  "
            ]
          },
          "metadata": {},
          "execution_count": 47
        }
      ]
    },
    {
      "cell_type": "markdown",
      "source": [
        "#separating features and target"
      ],
      "metadata": {
        "id": "vEida0MPUeox"
      }
    },
    {
      "cell_type": "code",
      "source": [
        "X=df3.iloc[:,:-1].values\n",
        "X"
      ],
      "metadata": {
        "colab": {
          "base_uri": "https://localhost:8080/",
          "height": 0
        },
        "id": "GVBOJDzIUcyn",
        "outputId": "0e230af5-7948-445f-817d-b16861cc214b"
      },
      "execution_count": 48,
      "outputs": [
        {
          "output_type": "execute_result",
          "data": {
            "text/plain": [
              "array([[  0. ,  68. , 190. , ...,  29. , 105. ,  40.8],\n",
              "       [  1. ,  20. , 166. , ...,  14. ,  94. ,  40.3],\n",
              "       [  0. ,  69. , 179. , ...,   5. ,  88. ,  38.7],\n",
              "       ...,\n",
              "       [  1. ,  43. , 159. , ...,  16. ,  90. ,  40.1],\n",
              "       [  0. ,  78. , 193. , ...,   2. ,  84. ,  38.3],\n",
              "       [  0. ,  63. , 173. , ...,  18. ,  92. ,  40.5]])"
            ]
          },
          "metadata": {},
          "execution_count": 48
        }
      ]
    },
    {
      "cell_type": "code",
      "source": [
        "y=df3.iloc[:,-1].values\n",
        "y"
      ],
      "metadata": {
        "colab": {
          "base_uri": "https://localhost:8080/",
          "height": 0
        },
        "id": "u8nMq7fmWyOE",
        "outputId": "313afe44-dfe6-4e54-b580-2cb48ec27d9b"
      },
      "execution_count": 49,
      "outputs": [
        {
          "output_type": "execute_result",
          "data": {
            "text/plain": [
              "array([231.,  66.,  26., ...,  75.,  11.,  98.])"
            ]
          },
          "metadata": {},
          "execution_count": 49
        }
      ]
    },
    {
      "cell_type": "code",
      "source": [
        "X_train,X_test,y_train,y_test=train_test_split(X,y,test_size=0.2,random_state=2)\n",
        "X.shape"
      ],
      "metadata": {
        "colab": {
          "base_uri": "https://localhost:8080/",
          "height": 0
        },
        "id": "scT2WBYuXFWl",
        "outputId": "377cabff-325e-4d56-abac-a157aaa72d9c"
      },
      "execution_count": 50,
      "outputs": [
        {
          "output_type": "execute_result",
          "data": {
            "text/plain": [
              "(15000, 7)"
            ]
          },
          "metadata": {},
          "execution_count": 50
        }
      ]
    },
    {
      "cell_type": "code",
      "source": [
        "X_train.shape"
      ],
      "metadata": {
        "colab": {
          "base_uri": "https://localhost:8080/",
          "height": 0
        },
        "id": "MQgPphSOXzkq",
        "outputId": "87cdc689-0f9b-47dd-d221-2a7a08fd1059"
      },
      "execution_count": 51,
      "outputs": [
        {
          "output_type": "execute_result",
          "data": {
            "text/plain": [
              "(12000, 7)"
            ]
          },
          "metadata": {},
          "execution_count": 51
        }
      ]
    },
    {
      "cell_type": "code",
      "source": [
        "X_test.shape"
      ],
      "metadata": {
        "colab": {
          "base_uri": "https://localhost:8080/",
          "height": 0
        },
        "id": "ON2i9fKEX6Dv",
        "outputId": "413785aa-ecac-4a43-eee1-52a8e452db25"
      },
      "execution_count": 52,
      "outputs": [
        {
          "output_type": "execute_result",
          "data": {
            "text/plain": [
              "(3000, 7)"
            ]
          },
          "metadata": {},
          "execution_count": 52
        }
      ]
    },
    {
      "cell_type": "code",
      "source": [
        "X_train.shape"
      ],
      "metadata": {
        "colab": {
          "base_uri": "https://localhost:8080/",
          "height": 0
        },
        "id": "3XS4SNSP2H09",
        "outputId": "233672e9-4a15-4476-8336-7e65ca03cea1"
      },
      "execution_count": 53,
      "outputs": [
        {
          "output_type": "execute_result",
          "data": {
            "text/plain": [
              "(12000, 7)"
            ]
          },
          "metadata": {},
          "execution_count": 53
        }
      ]
    },
    {
      "cell_type": "code",
      "source": [
        "from sklearn.preprocessing import StandardScaler\n",
        "sc=StandardScaler()\n",
        "X_train_new=sc.fit_transform(X_train)\n",
        "X_test_new=sc.transform(X_test)\n",
        "X_train_new\n",
        "X_test_new "
      ],
      "metadata": {
        "colab": {
          "base_uri": "https://localhost:8080/",
          "height": 0
        },
        "id": "iXEy_n0XPQNU",
        "outputId": "2c2281b3-1fca-4b71-cc87-0e71c3225502"
      },
      "execution_count": 54,
      "outputs": [
        {
          "output_type": "execute_result",
          "data": {
            "text/plain": [
              "array([[ 0.9905447 , -0.09739196, -0.16973303, ...,  1.01487045,\n",
              "         0.25730804,  0.98991621],\n",
              "       [-1.00954556,  1.61356783,  1.02207293, ...,  1.01487045,\n",
              "         1.81690824,  1.11814509],\n",
              "       [ 0.9905447 ,  0.6105914 , -0.0996268 , ..., -1.02678008,\n",
              "         0.04936135, -0.93351688],\n",
              "       ...,\n",
              "       [ 0.9905447 ,  0.84658585, -1.01100783, ...,  0.89477336,\n",
              "         0.77717477,  0.22054298],\n",
              "       [ 0.9905447 ,  0.90558447, -0.23983927, ..., -1.14687717,\n",
              "        -1.40626551, -0.80528801],\n",
              "       [ 0.9905447 ,  1.14157892,  0.04058567, ...,  0.17419082,\n",
              "        -0.15858535,  0.34877185]])"
            ]
          },
          "metadata": {},
          "execution_count": 54
        }
      ]
    },
    {
      "cell_type": "markdown",
      "source": [
        "# model training"
      ],
      "metadata": {
        "id": "W-vTNreYYEBS"
      }
    },
    {
      "cell_type": "markdown",
      "source": [
        "#XGbooster Regressor"
      ],
      "metadata": {
        "id": "DxkOnpDh8ZfI"
      }
    },
    {
      "cell_type": "code",
      "source": [
        "#loading the model and training the model with x_test\n",
        "xgb=XGBRegressor()\n",
        "xgb.fit(X_train_new,y_train)\n",
        "test_data_prediction=xgb.predict(X_test_new)\n",
        "test_data_prediction"
      ],
      "metadata": {
        "colab": {
          "base_uri": "https://localhost:8080/",
          "height": 0
        },
        "id": "AWB2CX8yZRtZ",
        "outputId": "78d724ef-d9ee-450b-a6fb-44d922aa2c9e"
      },
      "execution_count": 55,
      "outputs": [
        {
          "output_type": "stream",
          "name": "stdout",
          "text": [
            "[08:11:19] WARNING: /workspace/src/objective/regression_obj.cu:152: reg:linear is now deprecated in favor of reg:squarederror.\n"
          ]
        },
        {
          "output_type": "execute_result",
          "data": {
            "text/plain": [
              "array([129.06204 , 223.79721 ,  39.181965, ..., 145.59767 ,  22.53474 ,\n",
              "        92.29064 ], dtype=float32)"
            ]
          },
          "metadata": {},
          "execution_count": 55
        }
      ]
    },
    {
      "cell_type": "markdown",
      "source": [
        "Mean Absolute Error "
      ],
      "metadata": {
        "id": "S2HiqF7FAMp3"
      }
    },
    {
      "cell_type": "code",
      "source": [
        "mae=metrics.mean_absolute_error(y_test,test_data_prediction)\n",
        "print(\"Mean Absolute Error = \",mae)"
      ],
      "metadata": {
        "id": "9hod4HF8YHyP",
        "colab": {
          "base_uri": "https://localhost:8080/",
          "height": 0
        },
        "outputId": "4010c941-9419-44ce-94ee-e19fb6a4de4e"
      },
      "execution_count": 56,
      "outputs": [
        {
          "output_type": "stream",
          "name": "stdout",
          "text": [
            "Mean Absolute Error =  2.7159012502233186\n"
          ]
        }
      ]
    },
    {
      "cell_type": "markdown",
      "source": [
        "#Linear Regression"
      ],
      "metadata": {
        "id": "YFV_AL9ySUUC"
      }
    },
    {
      "cell_type": "code",
      "source": [
        "lrg=LinearRegression()\n",
        "lrg.fit(X_train_new,y_train)\n",
        "test_data_prediction=lrg.predict(X_test_new)\n",
        "test_data_prediction"
      ],
      "metadata": {
        "colab": {
          "base_uri": "https://localhost:8080/",
          "height": 0
        },
        "id": "FzORI8TuQqcx",
        "outputId": "6fd5b370-d382-48ed-ab56-7ac39811b1a1"
      },
      "execution_count": 57,
      "outputs": [
        {
          "output_type": "execute_result",
          "data": {
            "text/plain": [
              "array([137.49241057, 182.18166512,  50.15864741, ..., 157.56637167,\n",
              "        16.54924422, 100.21047087])"
            ]
          },
          "metadata": {},
          "execution_count": 57
        }
      ]
    },
    {
      "cell_type": "markdown",
      "source": [
        "Mean Absolute Error"
      ],
      "metadata": {
        "id": "yn-5Rih1SdKJ"
      }
    },
    {
      "cell_type": "code",
      "source": [
        "mae=metrics.mean_absolute_error(y_test,test_data_prediction)\n",
        "print(\"Mean Absolute Error = \",mae)"
      ],
      "metadata": {
        "colab": {
          "base_uri": "https://localhost:8080/",
          "height": 0
        },
        "id": "yuysbK1wRdSH",
        "outputId": "711af153-2551-496d-e1c0-066463988256"
      },
      "execution_count": 58,
      "outputs": [
        {
          "output_type": "stream",
          "name": "stdout",
          "text": [
            "Mean Absolute Error =  8.385188053147184\n"
          ]
        }
      ]
    },
    {
      "cell_type": "markdown",
      "source": [
        "#RandomForestRegressor"
      ],
      "metadata": {
        "id": "hCIGKcOhSt34"
      }
    },
    {
      "cell_type": "code",
      "source": [
        "rfg=RandomForestRegressor()\n",
        "rfg.fit(X_train_new,y_train)\n",
        "test_data_prediction=rfg.predict(X_test_new)\n",
        "test_data_prediction"
      ],
      "metadata": {
        "colab": {
          "base_uri": "https://localhost:8080/",
          "height": 0
        },
        "id": "sEIEqnu-TCJE",
        "outputId": "0d76d67e-8844-42ae-8f58-949aa04f797f"
      },
      "execution_count": 59,
      "outputs": [
        {
          "output_type": "execute_result",
          "data": {
            "text/plain": [
              "array([127.52, 224.59,  36.65, ..., 145.53,  24.12,  89.41])"
            ]
          },
          "metadata": {},
          "execution_count": 59
        }
      ]
    },
    {
      "cell_type": "markdown",
      "source": [
        "Mean Absolute Error"
      ],
      "metadata": {
        "id": "VExMF0HSTb2M"
      }
    },
    {
      "cell_type": "code",
      "source": [
        "mae=metrics.mean_absolute_error(y_test,test_data_prediction)\n",
        "print(\"Mean Absolute Error = \",mae)"
      ],
      "metadata": {
        "colab": {
          "base_uri": "https://localhost:8080/",
          "height": 0
        },
        "id": "2rsDUf1ATkG0",
        "outputId": "139e414e-0fd5-4b9c-94b6-6589afdb1fe6"
      },
      "execution_count": 60,
      "outputs": [
        {
          "output_type": "stream",
          "name": "stdout",
          "text": [
            "Mean Absolute Error =  1.6826600000000003\n"
          ]
        }
      ]
    },
    {
      "cell_type": "markdown",
      "source": [
        "#Lasso"
      ],
      "metadata": {
        "id": "tDuWVvKGT6OG"
      }
    },
    {
      "cell_type": "code",
      "source": [
        "ls=Lasso()\n",
        "ls.fit(X_train_new,y_train)\n",
        "test_data_prediction=ls.predict(X_test_new)\n",
        "test_data_prediction"
      ],
      "metadata": {
        "colab": {
          "base_uri": "https://localhost:8080/",
          "height": 0
        },
        "id": "h4u5obhKT8vq",
        "outputId": "335b5d56-e5a6-40cd-9c47-eb0a01a4a50a"
      },
      "execution_count": 61,
      "outputs": [
        {
          "output_type": "execute_result",
          "data": {
            "text/plain": [
              "array([136.78434121, 179.25600927,  51.09352763, ..., 150.1414618 ,\n",
              "        20.61809143, 102.27668255])"
            ]
          },
          "metadata": {},
          "execution_count": 61
        }
      ]
    },
    {
      "cell_type": "markdown",
      "source": [
        "Mean Absolute Error"
      ],
      "metadata": {
        "id": "n6Osi68rUcJ4"
      }
    },
    {
      "cell_type": "code",
      "source": [
        "mae=metrics.mean_absolute_error(y_test,test_data_prediction)\n",
        "print(\"Mean absolute error =\",mae)"
      ],
      "metadata": {
        "colab": {
          "base_uri": "https://localhost:8080/",
          "height": 0
        },
        "id": "-rZ5DIauUmtd",
        "outputId": "ec9f7f4c-db80-46b7-a792-8489a5c3a763"
      },
      "execution_count": 62,
      "outputs": [
        {
          "output_type": "stream",
          "name": "stdout",
          "text": [
            "Mean absolute error = 8.989469141792537\n"
          ]
        }
      ]
    },
    {
      "cell_type": "markdown",
      "source": [
        "#Ridge"
      ],
      "metadata": {
        "id": "uGrEvPMvW0El"
      }
    },
    {
      "cell_type": "code",
      "source": [
        "rg=Ridge()\n",
        "rg.fit(X_train_new,y_train)\n",
        "test_data_prediction=rg.predict(X_test_new)\n",
        "test_data_prediction"
      ],
      "metadata": {
        "colab": {
          "base_uri": "https://localhost:8080/",
          "height": 0
        },
        "id": "nBFSZOjPW372",
        "outputId": "8e29b6e5-787f-41b1-d6a7-494551d08efb"
      },
      "execution_count": 63,
      "outputs": [
        {
          "output_type": "execute_result",
          "data": {
            "text/plain": [
              "array([137.48208579, 182.1870962 ,  50.17294145, ..., 157.54412068,\n",
              "        16.55925798, 100.2146924 ])"
            ]
          },
          "metadata": {},
          "execution_count": 63
        }
      ]
    },
    {
      "cell_type": "markdown",
      "source": [
        "Mean Absolute Error"
      ],
      "metadata": {
        "id": "ijTepG4I6RGP"
      }
    },
    {
      "cell_type": "code",
      "source": [
        "mae=metrics.mean_absolute_error(y_test,test_data_prediction)\n",
        "print(\"Mean Absolute Error =\",mae)"
      ],
      "metadata": {
        "colab": {
          "base_uri": "https://localhost:8080/",
          "height": 0
        },
        "id": "GuqSrzyf6W_U",
        "outputId": "7dc2fba8-69c5-443b-fdfe-84bae1a36893"
      },
      "execution_count": 64,
      "outputs": [
        {
          "output_type": "stream",
          "name": "stdout",
          "text": [
            "Mean Absolute Error = 8.384821966003726\n"
          ]
        }
      ]
    },
    {
      "cell_type": "markdown",
      "source": [
        "**RESULTS**                                           \n",
        "\n",
        "\n",
        "XGBooster Regressor()  :                         \n",
        "Mean Absolute Error : 2.715\n",
        "\n",
        "\n",
        "Linear Regression() :                 \n",
        "Mean Absolute Error : 8.385\n",
        "\n",
        "\n",
        "RandomForestRegressor() :                    \n",
        "Mean Absolute Error   : 1.689\n",
        "\n",
        "\n",
        "Lasso() :     \n",
        "Mean Absolute Error : 8.989\n",
        "\n",
        "\n",
        "Ridge() :                                 \n",
        "Mean Absolute Error :8.384                \n",
        "\n",
        "\n",
        "\n",
        "\n",
        "\n",
        "\n",
        "\n",
        "\n",
        "\n",
        "\n",
        "\n",
        "\n",
        "\n",
        "\n",
        " "
      ],
      "metadata": {
        "id": "8X-ZuzdM7cxN"
      }
    },
    {
      "cell_type": "markdown",
      "source": [
        "\n",
        "\n",
        "\n",
        "\n",
        "\n",
        "**Conclusion:**                                                                                                            \n",
        "   \n",
        "\n",
        "\n",
        "\n",
        "\n",
        "\n",
        "\n",
        "while using all this algorithm   the Mean Absolute Error is lesser in RandomForestRegressor by comparing to others"
      ],
      "metadata": {
        "id": "npZS8uDDYgxi"
      }
    }
  ]
}